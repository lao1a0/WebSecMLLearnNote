{
 "cells": [
  {
   "cell_type": "markdown",
   "metadata": {},
   "source": [
    "# 7.3　Hello World！OpenAI Gym"
   ]
  },
  {
   "cell_type": "code",
   "execution_count": 1,
   "metadata": {},
   "outputs": [
    {
     "name": "stdout",
     "output_type": "stream",
     "text": [
      "Name: gym\n",
      "Version: 0.26.2\n",
      "Summary: Gym: A universal API for reinforcement learning environments\n",
      "Home-page: https://www.gymlibrary.dev/\n",
      "Author: Gym Community\n",
      "Author-email: jkterry@umd.edu\n",
      "License: MIT\n",
      "Location: d:\\anaconda\\envs\\keras_rl2\\lib\\site-packages\n",
      "Requires: cloudpickle, gym-notices, importlib-metadata, numpy\n",
      "Required-by: \n"
     ]
    }
   ],
   "source": [
    "! pip show gym"
   ]
  },
  {
   "cell_type": "code",
   "execution_count": 2,
   "metadata": {},
   "outputs": [
    {
     "data": {
      "text/plain": [
       "(array([ 0.00901061, -0.02583191, -0.015197  ,  0.0295292 ], dtype=float32),\n",
       " {})"
      ]
     },
     "execution_count": 2,
     "metadata": {},
     "output_type": "execute_result"
    }
   ],
   "source": [
    "import gym\n",
    "import time\n",
    "env = gym.make('CartPole-v1')\n",
    "observation = env.reset()\n",
    "observation"
   ]
  },
  {
   "cell_type": "code",
   "execution_count": 3,
   "metadata": {},
   "outputs": [
    {
     "name": "stdout",
     "output_type": "stream",
     "text": [
      "env actionspace：\n"
     ]
    },
    {
     "data": {
      "text/plain": [
       "Discrete(2)"
      ]
     },
     "execution_count": 3,
     "metadata": {},
     "output_type": "execute_result"
    }
   ],
   "source": [
    "print(\"env actionspace：\")\n",
    "env.action_space"
   ]
  },
  {
   "cell_type": "code",
   "execution_count": 4,
   "metadata": {},
   "outputs": [
    {
     "name": "stdout",
     "output_type": "stream",
     "text": [
      "env observationspace：\n",
      "Box([-4.8000002e+00 -3.4028235e+38 -4.1887903e-01 -3.4028235e+38], [4.8000002e+00 3.4028235e+38 4.1887903e-01 3.4028235e+38], (4,), float32)\n",
      "[4.8000002e+00 3.4028235e+38 4.1887903e-01 3.4028235e+38]\n",
      "[-4.8000002e+00 -3.4028235e+38 -4.1887903e-01 -3.4028235e+38]\n"
     ]
    }
   ],
   "source": [
    "print(\"env observationspace：\")\n",
    "print(env.observation_space)\n",
    "print(env.observation_space.high)\n",
    "print(env.observation_space.low)"
   ]
  },
  {
   "cell_type": "code",
   "execution_count": 5,
   "metadata": {},
   "outputs": [
    {
     "name": "stderr",
     "output_type": "stream",
     "text": [
      "d:\\Anaconda\\envs\\keras_rl2\\lib\\site-packages\\gym\\utils\\passive_env_checker.py:233: DeprecationWarning: `np.bool8` is a deprecated alias for `np.bool_`.  (Deprecated NumPy 1.24)\n",
      "  if not isinstance(terminated, (bool, np.bool8)):\n",
      "d:\\Anaconda\\envs\\keras_rl2\\lib\\site-packages\\gym\\envs\\classic_control\\cartpole.py:211: UserWarning: \u001b[33mWARN: You are calling render method without specifying any render mode. You can specify the render_mode at initialization, e.g. gym(\"CartPole-v1\", render_mode=\"rgb_array\")\u001b[0m\n",
      "  gym.logger.warn(\n"
     ]
    },
    {
     "name": "stdout",
     "output_type": "stream",
     "text": [
      "20\n"
     ]
    }
   ],
   "source": [
    "count = 0\n",
    "for t in range(100):\n",
    "    #随机选择一个动作\n",
    "    action = env.action_space.sample()\n",
    "    #执行动作 获取环境反馈\n",
    "    observation, reward, terminated, truncated, info = env.step(action)\n",
    "    # terminated 和 truncated 都是布尔值，分别表示环境是否因任务完成而终止，以及是否因达到最大步数而截断。\n",
    "    done = terminated or truncated\n",
    "    #如果玩死了就退出\n",
    "    if done:\n",
    "        break\n",
    "    env.render()\n",
    "    count+=1\n",
    "    time.sleep(0.2)\n",
    "print(count)"
   ]
  },
  {
   "cell_type": "markdown",
   "metadata": {},
   "source": [
    "# 7.4　编写OpenAI Gym环境"
   ]
  },
  {
   "cell_type": "code",
   "execution_count": 6,
   "metadata": {},
   "outputs": [],
   "source": [
    "import numpy\n",
    "import random\n",
    "from gym import spaces\n",
    "import gym\n",
    "\n",
    "\n",
    "class GridEnv(gym.Env):\n",
    "    metadata = {\n",
    "        'render.modes': ['human', 'rgb_array'],\n",
    "        'video.frames_per_second': 2\n",
    "    }\n",
    "\n",
    "    def __init__(self):\n",
    "\n",
    "        self.states = [1,2,3,4,5,6,7,8]\n",
    "\n",
    "        self.terminate_states = dict()\n",
    "        self.terminate_states[6] = 1\n",
    "        self.terminate_states[7] = 1\n",
    "        self.terminate_states[8] = 1\n",
    "\n",
    "        self.actions = ['n','e','s','w']\n",
    "\n",
    "        self.rewards = dict();\n",
    "        self.rewards['1_s'] = -1.0\n",
    "        self.rewards['3_s'] = 1.0\n",
    "        self.rewards['5_s'] = -1.0\n",
    "\n",
    "        self.t = dict();\n",
    "        self.t['1_s'] = 6\n",
    "        self.t['1_e'] = 2\n",
    "        self.t['2_w'] = 1\n",
    "        self.t['2_e'] = 3\n",
    "        self.t['3_s'] = 7\n",
    "        self.t['3_w'] = 2\n",
    "        self.t['3_e'] = 4\n",
    "        self.t['4_w'] = 3\n",
    "        self.t['4_e'] = 5\n",
    "        self.t['5_s'] = 8\n",
    "        self.t['5_w'] = 4\n",
    "\n",
    "        self.gamma = 0.8\n",
    "        self.viewer = None\n",
    "        self.state = None\n",
    "\n",
    "    def getTerminal(self):\n",
    "        return self.terminate_states\n",
    "\n",
    "    def getGamma(self):\n",
    "        return self.gamma\n",
    "\n",
    "    def getStates(self):\n",
    "        return self.states\n",
    "\n",
    "    def getAction(self):\n",
    "        return self.actions\n",
    "    def getTerminate_states(self):\n",
    "        return self.terminate_states\n",
    "    def setAction(self,s):\n",
    "        self.state=s\n",
    "\n",
    "    def _step(self, action):\n",
    "\n",
    "        state = self.state\n",
    "        #判断是否游戏结束\n",
    "        if state in self.terminate_states:\n",
    "            return state, 0, True, {}\n",
    "        key = \"%d_%s\"%(state, action)\n",
    "        #查找状态迁移表\n",
    "        if key in self.t:\n",
    "            next_state = self.t[key]\n",
    "        else:\n",
    "            #查不到就状态不变\n",
    "            next_state = state\n",
    "        self.state = next_state\n",
    "\n",
    "        is_terminal = False\n",
    "\n",
    "        if next_state in self.terminate_states:\n",
    "            is_terminal = True\n",
    "\n",
    "        if key not in self.rewards:\n",
    "            r = 0.0\n",
    "        else:\n",
    "            r = self.rewards[key]\n",
    "\n",
    "\n",
    "        return next_state, r,is_terminal,{}\n",
    "    def _reset(self):\n",
    "        self.state = self.states[int(random.random() * len(self.states))]\n",
    "        return self.state\n",
    "    def render(self, mode='human', close=False):\n",
    "        return"
   ]
  },
  {
   "cell_type": "markdown",
   "metadata": {},
   "source": [
    "要适配0.26.2的gym版本，需要修改gold.py文件，具体的代码放在了:\n",
    "```bash\n",
    "gym\n",
    "|--envs\n",
    "|    |--classic_control\n",
    "|           |--__init__.py\n",
    "|           |--gold.py\n",
    "|--__init__.py\n",
    "```"
   ]
  },
  {
   "cell_type": "code",
   "execution_count": 7,
   "metadata": {},
   "outputs": [],
   "source": [
    "\n",
    "import gym\n",
    "env = gym.make('Gold-v0')"
   ]
  }
 ],
 "metadata": {
  "kernelspec": {
   "display_name": "keras_rl2",
   "language": "python",
   "name": "python3"
  },
  "language_info": {
   "codemirror_mode": {
    "name": "ipython",
    "version": 3
   },
   "file_extension": ".py",
   "mimetype": "text/x-python",
   "name": "python",
   "nbconvert_exporter": "python",
   "pygments_lexer": "ipython3",
   "version": "3.8.20"
  }
 },
 "nbformat": 4,
 "nbformat_minor": 2
}
