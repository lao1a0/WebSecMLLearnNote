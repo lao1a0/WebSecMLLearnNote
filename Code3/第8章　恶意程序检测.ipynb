{
 "cells": [
  {
   "cell_type": "markdown",
   "metadata": {},
   "source": [
    "# 8.3　PE文件特征提取"
   ]
  },
  {
   "cell_type": "code",
   "execution_count": 8,
   "metadata": {},
   "outputs": [],
   "source": [
    "# 指定PE文件的路径\n",
    "pe_file_path = r'D:\\Documents\\天池竞赛\\WebSecMLLearnNote\\Code3\\第8章　恶意程序检测\\a1303f026b713fbe7fe165cc8609847f5ec46bb2dfdbe86cff4b12deae728ca3'\n",
    "\n",
    "# 以二进制模式打开文件并读取内容\n",
    "with open(pe_file_path, 'rb') as file:\n",
    "    bytez = file.read()"
   ]
  },
  {
   "cell_type": "markdown",
   "metadata": {},
   "source": [
    "## 1.字节直方图"
   ]
  },
  {
   "cell_type": "code",
   "execution_count": 9,
   "metadata": {},
   "outputs": [
    {
     "data": {
      "text/plain": [
       "array([0, 2, 0, 1, 0, 1], dtype=int64)"
      ]
     },
     "execution_count": 9,
     "metadata": {},
     "output_type": "execute_result"
    }
   ],
   "source": [
    "import numpy\n",
    "x = [0x01,0x05,0x03,0x01]\n",
    "numpy.bincount(x, weights=None, minlength=None)"
   ]
  },
  {
   "cell_type": "code",
   "execution_count": 10,
   "metadata": {},
   "outputs": [
    {
     "data": {
      "text/plain": [
       "array([1, 3, 1, 1, 0, 0, 0, 1, 0, 0], dtype=int64)"
      ]
     },
     "execution_count": 10,
     "metadata": {},
     "output_type": "execute_result"
    }
   ],
   "source": [
    "import numpy as np\n",
    "np.bincount(np.array([0, 1, 1, 3, 2, 1, 7]),minlength=10)"
   ]
  },
  {
   "cell_type": "code",
   "execution_count": 12,
   "metadata": {},
   "outputs": [
    {
     "data": {
      "text/plain": [
       "array([ 77,  90, 144, ..., 100,  98,   0], dtype=uint8)"
      ]
     },
     "execution_count": 12,
     "metadata": {},
     "output_type": "execute_result"
    }
   ],
   "source": [
    "np.frombuffer(bytez, dtype=np.uint8)"
   ]
  },
  {
   "cell_type": "code",
   "execution_count": 13,
   "metadata": {},
   "outputs": [
    {
     "data": {
      "text/plain": [
       "array([17971,   669,   422,   272,   518,   196,   226,   128,   650,\n",
       "         122,   357,   214,   581,   205,   123,   280,   433,   131,\n",
       "          83,    94,   271,   287,   105,   149,   211,    66,    68,\n",
       "         111,   126,    89,    77,    73,  2186,    58,    59,    83,\n",
       "         160,   334,    58,   107,   110,    67,    68,   129,   110,\n",
       "         136,   168,   182,   203,    94,   138,   310,   169,   133,\n",
       "         131,    72,   131,   109,   197,   256,   293,   166,   254,\n",
       "          75,  1131,   621,   121,   180,   154,   556,   246,   145,\n",
       "         185,   194,    84,    87,   151,   363,   193,   128,   587,\n",
       "         321,   349,   277,   252,   440,   290,   247,    81,    83,\n",
       "          57,   182,    85,   393,   260,   261,    78,   665,   170,\n",
       "         411,   585,  1264,   269,   177,   585,   641,   262,   100,\n",
       "         444,   303,   709,   735,   395,   113,   764,   817,  1315,\n",
       "         651,   191,   191,   152,   154,    90,    71,   130,   151,\n",
       "         102,   101,   204,   120,    58,   650,   161,   542,    76,\n",
       "          75,   198,   806,   164,  2211,    79,   330,    56,    62,\n",
       "         881,    55,    56,    69,    82,    64,    57,    57,    81,\n",
       "          74,    53,    66,    61,    62,    61,    35,    66,   201,\n",
       "          39,    83,    84,    61,    54,    38,   101,    49,    47,\n",
       "          53,    84,    50,    49,    48,    72,    56,    52,    56,\n",
       "          79,    52,    55,    42,   194,    69,    61,    72,    63,\n",
       "          60,    61,    72,   646,   350,   277,   304,   293,    47,\n",
       "         174,   245,   225,   188,   149,   101,   163,    77,    85,\n",
       "          94,   168,   153,   120,   100,    82,    72,   194,    92,\n",
       "         155,    85,    63,    95,   127,    95,    76,    87,   177,\n",
       "          86,    89,    48,    93,   169,    61,    59,   439,   168,\n",
       "          80,   221,   259,    46,    51,    61,   166,    81,    89,\n",
       "         112,   171,    67,   148,   161,   247,   116,    96,    95,\n",
       "         303,    71,   122,  1095], dtype=int64)"
      ]
     },
     "execution_count": 13,
     "metadata": {},
     "output_type": "execute_result"
    }
   ],
   "source": [
    "h = np.bincount(np.frombuffer(bytez, dtype=np.uint8), minlength=256)\n",
    "h"
   ]
  },
  {
   "cell_type": "code",
   "execution_count": 15,
   "metadata": {},
   "outputs": [
    {
     "data": {
      "text/plain": [
       "array([7.38020000e+04, 2.43502886e-01, 9.06479499e-03, 5.71800222e-03,\n",
       "       3.68553698e-03, 7.01877998e-03, 2.65575459e-03, 3.06224764e-03,\n",
       "       1.73437034e-03, 8.80734939e-03, 1.65307173e-03, 4.83726728e-03,\n",
       "       2.89965042e-03, 7.87241538e-03, 2.77770250e-03, 1.66662150e-03,\n",
       "       3.79393512e-03, 5.86704967e-03, 1.77501965e-03, 1.12463077e-03,\n",
       "       1.27367822e-03, 3.67198721e-03, 3.88878350e-03, 1.42272567e-03,\n",
       "       2.01891548e-03, 2.85900111e-03, 8.94284708e-04, 9.21384244e-04,\n",
       "       1.50402428e-03, 1.70727081e-03, 1.20592938e-03, 1.04333216e-03,\n",
       "       9.89133086e-04, 2.96197935e-02, 7.85886561e-04, 7.99436330e-04,\n",
       "       1.12463077e-03, 2.16796293e-03, 4.52562261e-03, 7.85886561e-04,\n",
       "       1.44982521e-03, 1.49047451e-03, 9.07834476e-04, 9.21384244e-04,\n",
       "       1.74792011e-03, 1.49047451e-03, 1.84276849e-03, 2.27636107e-03,\n",
       "       2.46605783e-03, 2.75060296e-03, 1.27367822e-03, 1.86986803e-03,\n",
       "       4.20042817e-03, 2.28991084e-03, 1.80211918e-03, 1.77501965e-03,\n",
       "       9.75583318e-04, 1.77501965e-03, 1.47692474e-03, 2.66930435e-03,\n",
       "       3.46874068e-03, 3.97008211e-03, 2.24926154e-03, 3.44164115e-03,\n",
       "       1.01623262e-03, 1.53247879e-02, 8.41440611e-03, 1.63952196e-03,\n",
       "       2.43895829e-03, 2.08666432e-03, 7.53367117e-03, 3.33324300e-03,\n",
       "       1.96471640e-03, 2.50670714e-03, 2.62865505e-03, 1.13818054e-03,\n",
       "       1.17882984e-03, 2.04601501e-03, 4.91856589e-03, 2.61510528e-03,\n",
       "       1.73437034e-03, 7.95371399e-03, 4.34947562e-03, 4.72886914e-03,\n",
       "       3.75328582e-03, 3.41454161e-03, 5.96189805e-03, 3.92943281e-03,\n",
       "       3.34679277e-03, 1.09753123e-03, 1.12463077e-03, 7.72336793e-04,\n",
       "       2.46605783e-03, 1.15173031e-03, 5.32505894e-03, 3.52293976e-03,\n",
       "       3.53648953e-03, 1.05688193e-03, 9.01059592e-03, 2.30346061e-03,\n",
       "       5.56895477e-03, 7.92661445e-03, 1.71269071e-02, 3.64488767e-03,\n",
       "       2.39830899e-03, 7.92661445e-03, 8.68540148e-03, 3.55003929e-03,\n",
       "       1.35497683e-03, 6.01609712e-03, 4.10557979e-03, 9.60678572e-03,\n",
       "       9.95907970e-03, 5.35215848e-03, 1.53112382e-03, 1.03520230e-02,\n",
       "       1.10701607e-02, 1.78179453e-02, 8.82089916e-03, 2.58800575e-03,\n",
       "       2.58800575e-03, 2.05956478e-03, 2.08666432e-03, 1.21947915e-03,\n",
       "       9.62033549e-04, 1.76146988e-03, 2.04601501e-03, 1.38207637e-03,\n",
       "       1.36852660e-03, 2.76415273e-03, 1.62597220e-03, 7.85886561e-04,\n",
       "       8.80734939e-03, 2.18151270e-03, 7.34397442e-03, 1.02978239e-03,\n",
       "       1.01623262e-03, 2.68285412e-03, 1.09211132e-02, 2.22216200e-03,\n",
       "       2.99585377e-02, 1.07043170e-03, 4.47142354e-03, 7.58787025e-04,\n",
       "       8.40085635e-04, 1.19373459e-02, 7.45237256e-04, 7.58787025e-04,\n",
       "       9.34934013e-04, 1.11108100e-03, 8.67185171e-04, 7.72336793e-04,\n",
       "       7.72336793e-04, 1.09753123e-03, 1.00268285e-03, 7.18137720e-04,\n",
       "       8.94284708e-04, 8.26535866e-04, 8.40085635e-04, 8.26535866e-04,\n",
       "       4.74241890e-04, 8.94284708e-04, 2.72350343e-03, 5.28440964e-04,\n",
       "       1.12463077e-03, 1.13818054e-03, 8.26535866e-04, 7.31687488e-04,\n",
       "       5.14891195e-04, 1.36852660e-03, 6.63938647e-04, 6.36839110e-04,\n",
       "       7.18137720e-04, 1.13818054e-03, 6.77488415e-04, 6.63938647e-04,\n",
       "       6.50388878e-04, 9.75583318e-04, 7.58787025e-04, 7.04587952e-04,\n",
       "       7.58787025e-04, 1.07043170e-03, 7.04587952e-04, 7.45237256e-04,\n",
       "       5.69090269e-04, 2.62865505e-03, 9.34934013e-04, 8.26535866e-04,\n",
       "       9.75583318e-04, 8.53635403e-04, 8.12986098e-04, 8.26535866e-04,\n",
       "       9.75583318e-04, 8.75315032e-03, 4.74241890e-03, 3.75328582e-03,\n",
       "       4.11912956e-03, 3.97008211e-03, 6.36839110e-04, 2.35765968e-03,\n",
       "       3.31969323e-03, 3.04869787e-03, 2.54735644e-03, 2.01891548e-03,\n",
       "       1.36852660e-03, 2.20861223e-03, 1.04333216e-03, 1.15173031e-03,\n",
       "       1.27367822e-03, 2.27636107e-03, 2.07311455e-03, 1.62597220e-03,\n",
       "       1.35497683e-03, 1.11108100e-03, 9.75583318e-04, 2.62865505e-03,\n",
       "       1.24657868e-03, 2.10021409e-03, 1.15173031e-03, 8.53635403e-04,\n",
       "       1.28722799e-03, 1.72082057e-03, 1.28722799e-03, 1.02978239e-03,\n",
       "       1.17882984e-03, 2.39830899e-03, 1.16528007e-03, 1.20592938e-03,\n",
       "       6.50388878e-04, 1.26012845e-03, 2.28991084e-03, 8.26535866e-04,\n",
       "       7.99436330e-04, 5.94834828e-03, 2.27636107e-03, 1.08398146e-03,\n",
       "       2.99449879e-03, 3.50938999e-03, 6.23289342e-04, 6.91038183e-04,\n",
       "       8.26535866e-04, 2.24926154e-03, 1.09753123e-03, 1.20592938e-03,\n",
       "       1.51757405e-03, 2.31701038e-03, 9.07834476e-04, 2.00536571e-03,\n",
       "       2.18151270e-03, 3.34679277e-03, 1.57177312e-03, 1.30077776e-03,\n",
       "       1.28722799e-03, 4.10557979e-03, 9.62033549e-04, 1.65307173e-03,\n",
       "       1.48369963e-02])"
      ]
     },
     "execution_count": 15,
     "metadata": {},
     "output_type": "execute_result"
    }
   ],
   "source": [
    "fg = np.concatenate([\n",
    "        [h.sum()],  # total size of the byte stream\n",
    "        h.astype(np.float32).flatten() / h.sum(),  # normalized the histogram\n",
    "        ])\n",
    "fg"
   ]
  },
  {
   "cell_type": "code",
   "execution_count": 18,
   "metadata": {},
   "outputs": [
    {
     "data": {
      "text/html": [
       "<div>\n",
       "<style scoped>\n",
       "    .dataframe tbody tr th:only-of-type {\n",
       "        vertical-align: middle;\n",
       "    }\n",
       "\n",
       "    .dataframe tbody tr th {\n",
       "        vertical-align: top;\n",
       "    }\n",
       "\n",
       "    .dataframe thead th {\n",
       "        text-align: right;\n",
       "    }\n",
       "</style>\n",
       "<table border=\"1\" class=\"dataframe\">\n",
       "  <thead>\n",
       "    <tr style=\"text-align: right;\">\n",
       "      <th></th>\n",
       "      <th>0</th>\n",
       "    </tr>\n",
       "  </thead>\n",
       "  <tbody>\n",
       "    <tr>\n",
       "      <th>0</th>\n",
       "      <td>73802.000000</td>\n",
       "    </tr>\n",
       "    <tr>\n",
       "      <th>1</th>\n",
       "      <td>0.243503</td>\n",
       "    </tr>\n",
       "    <tr>\n",
       "      <th>2</th>\n",
       "      <td>0.009065</td>\n",
       "    </tr>\n",
       "    <tr>\n",
       "      <th>3</th>\n",
       "      <td>0.005718</td>\n",
       "    </tr>\n",
       "    <tr>\n",
       "      <th>4</th>\n",
       "      <td>0.003686</td>\n",
       "    </tr>\n",
       "    <tr>\n",
       "      <th>...</th>\n",
       "      <td>...</td>\n",
       "    </tr>\n",
       "    <tr>\n",
       "      <th>252</th>\n",
       "      <td>0.001287</td>\n",
       "    </tr>\n",
       "    <tr>\n",
       "      <th>253</th>\n",
       "      <td>0.004106</td>\n",
       "    </tr>\n",
       "    <tr>\n",
       "      <th>254</th>\n",
       "      <td>0.000962</td>\n",
       "    </tr>\n",
       "    <tr>\n",
       "      <th>255</th>\n",
       "      <td>0.001653</td>\n",
       "    </tr>\n",
       "    <tr>\n",
       "      <th>256</th>\n",
       "      <td>0.014837</td>\n",
       "    </tr>\n",
       "  </tbody>\n",
       "</table>\n",
       "<p>257 rows × 1 columns</p>\n",
       "</div>"
      ],
      "text/plain": [
       "                0\n",
       "0    73802.000000\n",
       "1        0.243503\n",
       "2        0.009065\n",
       "3        0.005718\n",
       "4        0.003686\n",
       "..            ...\n",
       "252      0.001287\n",
       "253      0.004106\n",
       "254      0.000962\n",
       "255      0.001653\n",
       "256      0.014837\n",
       "\n",
       "[257 rows x 1 columns]"
      ]
     },
     "execution_count": 18,
     "metadata": {},
     "output_type": "execute_result"
    }
   ],
   "source": [
    "import pandas as pd\n",
    "pd.DataFrame(fg)"
   ]
  },
  {
   "cell_type": "code",
   "execution_count": 19,
   "metadata": {},
   "outputs": [
    {
     "data": {
      "image/png": "[encoded data removed]",
      "text/plain": [
       "<Figure size 720x432 with 1 Axes>"
      ]
     },
     "metadata": {
      "needs_background": "light"
     },
     "output_type": "display_data"
    }
   ],
   "source": [
    "import matplotlib.pyplot as plt\n",
    "\n",
    "plt.figure(figsize=(10, 6))\n",
    "plt.bar(range(len(fg[1:])), fg[1:])\n",
    "plt.xlabel('Byte Value')\n",
    "plt.ylabel('Frequency')\n",
    "plt.title('Byte Histogram')\n",
    "plt.show()"
   ]
  },
  {
   "cell_type": "markdown",
   "metadata": {},
   "source": [
    "## 2.字节熵直方图"
   ]
  },
  {
   "cell_type": "code",
   "execution_count": 20,
   "metadata": {},
   "outputs": [
    {
     "data": {
      "text/plain": [
       "array([ 0,  1,  2,  3,  4,  5,  6,  7,  8,  9, 10, 11, 12, 13, 14, 15])"
      ]
     },
     "execution_count": 20,
     "metadata": {},
     "output_type": "execute_result"
    }
   ],
   "source": [
    "import numpy as np\n",
    "x=np.arange(16)\n",
    "x"
   ]
  },
  {
   "cell_type": "code",
   "execution_count": 45,
   "metadata": {},
   "outputs": [],
   "source": [
    "def rolling_window(a, window):\n",
    "    shape = a.shape[:-1] + (a.shape[-1] - window + 1, window)\n",
    "    strides = a.strides + (a.strides[-1],)\n",
    "    return np.lib.stride_tricks.as_strided(a, shape=shape, strides=strides)\n",
    "\n",
    "# 遍历返回的窗口列表，其中步长为1，窗口大小为2\n",
    "blocks = rolling_window(x, 2)[::1, :]"
   ]
  },
  {
   "cell_type": "code",
   "execution_count": 44,
   "metadata": {},
   "outputs": [
    {
     "data": {
      "image/png": "[encoded data removed]",
      "text/plain": [
       "<Figure size 432x288 with 1 Axes>"
      ]
     },
     "metadata": {
      "needs_background": "light"
     },
     "output_type": "display_data"
    }
   ],
   "source": [
    "df = pd.DataFrame(blocks,columns=['Byte1','Byte2'])\n",
    "plt.scatter(df['Byte1'], df['Byte2'])\n",
    "# 添加标题和标签\n",
    "plt.title('Scatter Plot Example')\n",
    "plt.xlabel('X Axis Label')\n",
    "plt.ylabel('Y Axis Label')\n",
    "\n",
    "# 显示图表\n",
    "plt.show()"
   ]
  },
  {
   "cell_type": "code",
   "execution_count": 46,
   "metadata": {},
   "outputs": [
    {
     "data": {
      "text/plain": [
       "array([[ 77,  90],\n",
       "       [ 90, 144],\n",
       "       [144,   0],\n",
       "       ...,\n",
       "       [112, 100],\n",
       "       [100,  98],\n",
       "       [ 98,   0]], dtype=uint8)"
      ]
     },
     "execution_count": 46,
     "metadata": {},
     "output_type": "execute_result"
    }
   ],
   "source": [
    "output = np.zeros((16, 16), dtype=np.int8) # 定义一个16×16矩阵保存计算的字节熵直方图\n",
    "a = np.frombuffer(bytez, dtype=np.uint8)\n",
    "window=2\n",
    "step=1\n",
    "shape = a.shape[:-1] + (a.shape[-1] - window + 1, window)\n",
    "strides = a.strides + (a.strides[-1],)\n",
    "blocks = np.lib.stride_tricks.as_strided(a, shape=shape, strides=strides)[::step, :]\n",
    "blocks"
   ]
  },
  {
   "cell_type": "code",
   "execution_count": 50,
   "metadata": {},
   "outputs": [
    {
     "data": {
      "text/plain": [
       "<AxesSubplot:xlabel='Byte1', ylabel='Byte2'>"
      ]
     },
     "execution_count": 50,
     "metadata": {},
     "output_type": "execute_result"
    },
    {
     "data": {
      "image/png": "[encoded data removed]",
      "text/plain": [
       "<Figure size 432x288 with 1 Axes>"
      ]
     },
     "metadata": {
      "needs_background": "light"
     },
     "output_type": "display_data"
    }
   ],
   "source": [
    "df = pd.DataFrame(blocks,columns=['Byte1','Byte2'])\n",
    "df.plot.scatter(x='Byte1', y='Byte2')"
   ]
  },
  {
   "cell_type": "code",
   "execution_count": 60,
   "metadata": {},
   "outputs": [],
   "source": [
    "def _entropy_bin_counts(block):\n",
    "    window = 16\n",
    "    c = np.bincount(block >> 4, minlength=16)\n",
    "    p = c.astype(np.float32) / window\n",
    "    wh = np.where(c)[0]\n",
    "    H = np.sum(-p[wh] * np.log2(p[wh]))\n",
    "    Hbin = int(H * 2)  \n",
    "    if Hbin == 16:\n",
    "        Hbin = 15\n",
    "    return Hbin, c"
   ]
  },
  {
   "cell_type": "code",
   "execution_count": 61,
   "metadata": {},
   "outputs": [
    {
     "data": {
      "text/html": [
       "<div>\n",
       "<style scoped>\n",
       "    .dataframe tbody tr th:only-of-type {\n",
       "        vertical-align: middle;\n",
       "    }\n",
       "\n",
       "    .dataframe tbody tr th {\n",
       "        vertical-align: top;\n",
       "    }\n",
       "\n",
       "    .dataframe thead th {\n",
       "        text-align: right;\n",
       "    }\n",
       "</style>\n",
       "<table border=\"1\" class=\"dataframe\">\n",
       "  <thead>\n",
       "    <tr style=\"text-align: right;\">\n",
       "      <th></th>\n",
       "      <th>0</th>\n",
       "      <th>1</th>\n",
       "      <th>2</th>\n",
       "      <th>3</th>\n",
       "      <th>4</th>\n",
       "      <th>5</th>\n",
       "      <th>6</th>\n",
       "      <th>7</th>\n",
       "      <th>8</th>\n",
       "      <th>9</th>\n",
       "      <th>10</th>\n",
       "      <th>11</th>\n",
       "      <th>12</th>\n",
       "      <th>13</th>\n",
       "      <th>14</th>\n",
       "      <th>15</th>\n",
       "    </tr>\n",
       "  </thead>\n",
       "  <tbody>\n",
       "    <tr>\n",
       "      <th>0</th>\n",
       "      <td>44</td>\n",
       "      <td>-56</td>\n",
       "      <td>44</td>\n",
       "      <td>32</td>\n",
       "      <td>-28</td>\n",
       "      <td>16</td>\n",
       "      <td>36</td>\n",
       "      <td>52</td>\n",
       "      <td>-60</td>\n",
       "      <td>-52</td>\n",
       "      <td>-40</td>\n",
       "      <td>116</td>\n",
       "      <td>56</td>\n",
       "      <td>20</td>\n",
       "      <td>-100</td>\n",
       "      <td>72</td>\n",
       "    </tr>\n",
       "    <tr>\n",
       "      <th>1</th>\n",
       "      <td>-64</td>\n",
       "      <td>52</td>\n",
       "      <td>38</td>\n",
       "      <td>-100</td>\n",
       "      <td>120</td>\n",
       "      <td>-116</td>\n",
       "      <td>-122</td>\n",
       "      <td>-106</td>\n",
       "      <td>-98</td>\n",
       "      <td>-14</td>\n",
       "      <td>-32</td>\n",
       "      <td>54</td>\n",
       "      <td>-52</td>\n",
       "      <td>6</td>\n",
       "      <td>30</td>\n",
       "      <td>108</td>\n",
       "    </tr>\n",
       "    <tr>\n",
       "      <th>2</th>\n",
       "      <td>-107</td>\n",
       "      <td>-88</td>\n",
       "      <td>-56</td>\n",
       "      <td>70</td>\n",
       "      <td>3</td>\n",
       "      <td>2</td>\n",
       "      <td>-70</td>\n",
       "      <td>126</td>\n",
       "      <td>94</td>\n",
       "      <td>-58</td>\n",
       "      <td>58</td>\n",
       "      <td>126</td>\n",
       "      <td>24</td>\n",
       "      <td>62</td>\n",
       "      <td>-88</td>\n",
       "      <td>-28</td>\n",
       "    </tr>\n",
       "    <tr>\n",
       "      <th>3</th>\n",
       "      <td>0</td>\n",
       "      <td>0</td>\n",
       "      <td>0</td>\n",
       "      <td>0</td>\n",
       "      <td>0</td>\n",
       "      <td>0</td>\n",
       "      <td>0</td>\n",
       "      <td>0</td>\n",
       "      <td>0</td>\n",
       "      <td>0</td>\n",
       "      <td>0</td>\n",
       "      <td>0</td>\n",
       "      <td>0</td>\n",
       "      <td>0</td>\n",
       "      <td>0</td>\n",
       "      <td>0</td>\n",
       "    </tr>\n",
       "    <tr>\n",
       "      <th>4</th>\n",
       "      <td>0</td>\n",
       "      <td>0</td>\n",
       "      <td>0</td>\n",
       "      <td>0</td>\n",
       "      <td>0</td>\n",
       "      <td>0</td>\n",
       "      <td>0</td>\n",
       "      <td>0</td>\n",
       "      <td>0</td>\n",
       "      <td>0</td>\n",
       "      <td>0</td>\n",
       "      <td>0</td>\n",
       "      <td>0</td>\n",
       "      <td>0</td>\n",
       "      <td>0</td>\n",
       "      <td>0</td>\n",
       "    </tr>\n",
       "    <tr>\n",
       "      <th>5</th>\n",
       "      <td>0</td>\n",
       "      <td>0</td>\n",
       "      <td>0</td>\n",
       "      <td>0</td>\n",
       "      <td>0</td>\n",
       "      <td>0</td>\n",
       "      <td>0</td>\n",
       "      <td>0</td>\n",
       "      <td>0</td>\n",
       "      <td>0</td>\n",
       "      <td>0</td>\n",
       "      <td>0</td>\n",
       "      <td>0</td>\n",
       "      <td>0</td>\n",
       "      <td>0</td>\n",
       "      <td>0</td>\n",
       "    </tr>\n",
       "    <tr>\n",
       "      <th>6</th>\n",
       "      <td>0</td>\n",
       "      <td>0</td>\n",
       "      <td>0</td>\n",
       "      <td>0</td>\n",
       "      <td>0</td>\n",
       "      <td>0</td>\n",
       "      <td>0</td>\n",
       "      <td>0</td>\n",
       "      <td>0</td>\n",
       "      <td>0</td>\n",
       "      <td>0</td>\n",
       "      <td>0</td>\n",
       "      <td>0</td>\n",
       "      <td>0</td>\n",
       "      <td>0</td>\n",
       "      <td>0</td>\n",
       "    </tr>\n",
       "    <tr>\n",
       "      <th>7</th>\n",
       "      <td>0</td>\n",
       "      <td>0</td>\n",
       "      <td>0</td>\n",
       "      <td>0</td>\n",
       "      <td>0</td>\n",
       "      <td>0</td>\n",
       "      <td>0</td>\n",
       "      <td>0</td>\n",
       "      <td>0</td>\n",
       "      <td>0</td>\n",
       "      <td>0</td>\n",
       "      <td>0</td>\n",
       "      <td>0</td>\n",
       "      <td>0</td>\n",
       "      <td>0</td>\n",
       "      <td>0</td>\n",
       "    </tr>\n",
       "    <tr>\n",
       "      <th>8</th>\n",
       "      <td>0</td>\n",
       "      <td>0</td>\n",
       "      <td>0</td>\n",
       "      <td>0</td>\n",
       "      <td>0</td>\n",
       "      <td>0</td>\n",
       "      <td>0</td>\n",
       "      <td>0</td>\n",
       "      <td>0</td>\n",
       "      <td>0</td>\n",
       "      <td>0</td>\n",
       "      <td>0</td>\n",
       "      <td>0</td>\n",
       "      <td>0</td>\n",
       "      <td>0</td>\n",
       "      <td>0</td>\n",
       "    </tr>\n",
       "    <tr>\n",
       "      <th>9</th>\n",
       "      <td>0</td>\n",
       "      <td>0</td>\n",
       "      <td>0</td>\n",
       "      <td>0</td>\n",
       "      <td>0</td>\n",
       "      <td>0</td>\n",
       "      <td>0</td>\n",
       "      <td>0</td>\n",
       "      <td>0</td>\n",
       "      <td>0</td>\n",
       "      <td>0</td>\n",
       "      <td>0</td>\n",
       "      <td>0</td>\n",
       "      <td>0</td>\n",
       "      <td>0</td>\n",
       "      <td>0</td>\n",
       "    </tr>\n",
       "    <tr>\n",
       "      <th>10</th>\n",
       "      <td>0</td>\n",
       "      <td>0</td>\n",
       "      <td>0</td>\n",
       "      <td>0</td>\n",
       "      <td>0</td>\n",
       "      <td>0</td>\n",
       "      <td>0</td>\n",
       "      <td>0</td>\n",
       "      <td>0</td>\n",
       "      <td>0</td>\n",
       "      <td>0</td>\n",
       "      <td>0</td>\n",
       "      <td>0</td>\n",
       "      <td>0</td>\n",
       "      <td>0</td>\n",
       "      <td>0</td>\n",
       "    </tr>\n",
       "    <tr>\n",
       "      <th>11</th>\n",
       "      <td>0</td>\n",
       "      <td>0</td>\n",
       "      <td>0</td>\n",
       "      <td>0</td>\n",
       "      <td>0</td>\n",
       "      <td>0</td>\n",
       "      <td>0</td>\n",
       "      <td>0</td>\n",
       "      <td>0</td>\n",
       "      <td>0</td>\n",
       "      <td>0</td>\n",
       "      <td>0</td>\n",
       "      <td>0</td>\n",
       "      <td>0</td>\n",
       "      <td>0</td>\n",
       "      <td>0</td>\n",
       "    </tr>\n",
       "    <tr>\n",
       "      <th>12</th>\n",
       "      <td>0</td>\n",
       "      <td>0</td>\n",
       "      <td>0</td>\n",
       "      <td>0</td>\n",
       "      <td>0</td>\n",
       "      <td>0</td>\n",
       "      <td>0</td>\n",
       "      <td>0</td>\n",
       "      <td>0</td>\n",
       "      <td>0</td>\n",
       "      <td>0</td>\n",
       "      <td>0</td>\n",
       "      <td>0</td>\n",
       "      <td>0</td>\n",
       "      <td>0</td>\n",
       "      <td>0</td>\n",
       "    </tr>\n",
       "    <tr>\n",
       "      <th>13</th>\n",
       "      <td>0</td>\n",
       "      <td>0</td>\n",
       "      <td>0</td>\n",
       "      <td>0</td>\n",
       "      <td>0</td>\n",
       "      <td>0</td>\n",
       "      <td>0</td>\n",
       "      <td>0</td>\n",
       "      <td>0</td>\n",
       "      <td>0</td>\n",
       "      <td>0</td>\n",
       "      <td>0</td>\n",
       "      <td>0</td>\n",
       "      <td>0</td>\n",
       "      <td>0</td>\n",
       "      <td>0</td>\n",
       "    </tr>\n",
       "    <tr>\n",
       "      <th>14</th>\n",
       "      <td>0</td>\n",
       "      <td>0</td>\n",
       "      <td>0</td>\n",
       "      <td>0</td>\n",
       "      <td>0</td>\n",
       "      <td>0</td>\n",
       "      <td>0</td>\n",
       "      <td>0</td>\n",
       "      <td>0</td>\n",
       "      <td>0</td>\n",
       "      <td>0</td>\n",
       "      <td>0</td>\n",
       "      <td>0</td>\n",
       "      <td>0</td>\n",
       "      <td>0</td>\n",
       "      <td>0</td>\n",
       "    </tr>\n",
       "    <tr>\n",
       "      <th>15</th>\n",
       "      <td>0</td>\n",
       "      <td>0</td>\n",
       "      <td>0</td>\n",
       "      <td>0</td>\n",
       "      <td>0</td>\n",
       "      <td>0</td>\n",
       "      <td>0</td>\n",
       "      <td>0</td>\n",
       "      <td>0</td>\n",
       "      <td>0</td>\n",
       "      <td>0</td>\n",
       "      <td>0</td>\n",
       "      <td>0</td>\n",
       "      <td>0</td>\n",
       "      <td>0</td>\n",
       "      <td>0</td>\n",
       "    </tr>\n",
       "  </tbody>\n",
       "</table>\n",
       "</div>"
      ],
      "text/plain": [
       "     0   1   2    3    4    5    6    7   8   9   10   11  12  13   14   15\n",
       "0    44 -56  44   32  -28   16   36   52 -60 -52 -40  116  56  20 -100   72\n",
       "1   -64  52  38 -100  120 -116 -122 -106 -98 -14 -32   54 -52   6   30  108\n",
       "2  -107 -88 -56   70    3    2  -70  126  94 -58  58  126  24  62  -88  -28\n",
       "3     0   0   0    0    0    0    0    0   0   0   0    0   0   0    0    0\n",
       "4     0   0   0    0    0    0    0    0   0   0   0    0   0   0    0    0\n",
       "5     0   0   0    0    0    0    0    0   0   0   0    0   0   0    0    0\n",
       "6     0   0   0    0    0    0    0    0   0   0   0    0   0   0    0    0\n",
       "7     0   0   0    0    0    0    0    0   0   0   0    0   0   0    0    0\n",
       "8     0   0   0    0    0    0    0    0   0   0   0    0   0   0    0    0\n",
       "9     0   0   0    0    0    0    0    0   0   0   0    0   0   0    0    0\n",
       "10    0   0   0    0    0    0    0    0   0   0   0    0   0   0    0    0\n",
       "11    0   0   0    0    0    0    0    0   0   0   0    0   0   0    0    0\n",
       "12    0   0   0    0    0    0    0    0   0   0   0    0   0   0    0    0\n",
       "13    0   0   0    0    0    0    0    0   0   0   0    0   0   0    0    0\n",
       "14    0   0   0    0    0    0    0    0   0   0   0    0   0   0    0    0\n",
       "15    0   0   0    0    0    0    0    0   0   0   0    0   0   0    0    0"
      ]
     },
     "execution_count": 61,
     "metadata": {},
     "output_type": "execute_result"
    }
   ],
   "source": [
    "for block in blocks:\n",
    "    Hbin, c = _entropy_bin_counts(block)\n",
    "    output[Hbin, :] += c\n",
    "import pandas as pd\n",
    "pd.DataFrame(output)"
   ]
  },
  {
   "cell_type": "markdown",
   "metadata": {},
   "source": [
    "## 3.文本特征"
   ]
  },
  {
   "cell_type": "code",
   "execution_count": 62,
   "metadata": {},
   "outputs": [
    {
     "data": {
      "text/plain": [
       "[510]"
      ]
     },
     "execution_count": 62,
     "metadata": {},
     "output_type": "execute_result"
    }
   ],
   "source": [
    "import re\n",
    "_allstrings = re.compile(b'[\\x20-\\x7f]{5,}')\n",
    "allstrings = _allstrings.findall(bytez)\n",
    "[len(allstrings)]"
   ]
  },
  {
   "cell_type": "code",
   "execution_count": 69,
   "metadata": {},
   "outputs": [
    {
     "data": {
      "text/plain": [
       "[b'!This program cannot be run in DOS mode.',\n",
       " b'.text',\n",
       " b'`.rdata',\n",
       " b'@.data',\n",
       " b'.rsrc',\n",
       " b'wBg\\x7f$yA',\n",
       " b'jQhPU@',\n",
       " b'p(hRP',\n",
       " b'@ht,@;Q',\n",
       " b'SV]5d',\n",
       " b'tUPhP',\n",
       " b'D@AePVRQ',\n",
       " b'`7}::+5',\n",
       " b'm>n%Y',\n",
       " b'+#=iB',\n",
       " b'qT[9(tj',\n",
       " b',1ALij',\n",
       " b'f+*J>',\n",
       " b'h`16Dj WS',\n",
       " b'LP4+H',\n",
       " b\"M'RPjh\",\n",
       " b'ifE++r',\n",
       " b'QRPWS/4',\n",
       " b'PPQhPl@',\n",
       " b'PPRW`',\n",
       " b'.P/Qh',\n",
       " b'PQhhD@',\n",
       " b'PPPXQh',\n",
       " b'PRQPP',\n",
       " b'H%bhh',\n",
       " b't7c5C',\n",
       " b'bhpN@',\n",
       " b'WMs8V',\n",
       " b'3&_^[',\n",
       " b'QRh@S',\n",
       " b';AusC',\n",
       " b't<_^[]',\n",
       " b'ufPQh',\n",
       " b'bV v}n',\n",
       " b'usPPP',\n",
       " b'A6re;',\n",
       " b'}n_^[',\n",
       " b'B\"/ W',\n",
       " b'VBjPS',\n",
       " b'V(QRP',\n",
       " b',k*(_^3',\n",
       " b' _^[]',\n",
       " b'4?:u6;',\n",
       " b'$SVhu',\n",
       " b'9EqsE',\n",
       " b'E0N t',\n",
       " b't\"j.V',\n",
       " b'QRjxj',\n",
       " b'nts;~',\n",
       " b'F@;7u',\n",
       " b'MPSVWa}',\n",
       " b'PWRQJ',\n",
       " b'M$+a_',\n",
       " b'UaPQR',\n",
       " b'_wm]b',\n",
       " b'E`= N',\n",
       " b'M@Vou',\n",
       " b'ElPg~f',\n",
       " b'F_3B^',\n",
       " b'PWVP|E',\n",
       " b'U+VQ[',\n",
       " b'PQ~{|',\n",
       " b'!u9Ph',\n",
       " b'fbtM9',\n",
       " b'SSSSS',\n",
       " b'RQuk;',\n",
       " b'G>j^QPVPz',\n",
       " b'6h W@',\n",
       " b'MDQR8',\n",
       " b'SVW<}',\n",
       " b'E9u4;',\n",
       " b'ug_^3',\n",
       " b'K<hCD;',\n",
       " b'+K_^@[]',\n",
       " b'~/P@A',\n",
       " b'SV{D$',\n",
       " b'(null)',\n",
       " b'0123456789abcdef',\n",
       " b'0123456789ABCDEF',\n",
       " b'0123456789abcdef',\n",
       " b'0123456789ABCDEF',\n",
       " b'0123456789',\n",
       " b'@@@@@@@@@@@@@@@@@@@@@@@@@@@@@@@@@@@@@@@@@@@>@@@?456789:;<=@@@@@@@',\n",
       " b'@@@@@@',\n",
       " b' !\"#$%&\\'()*+,-./0123@@@@@@@@@@@@@@@@@@@@@@@@@@@@@@@@@@@@@@@@@@@@@@@@@@@@@@@@@@@@@@@@@@@@@@@@@@@@@@@@@@@@@@@@@@@@@@@@@@@@@@@@@@@@@@@@@@@@@@@@@@@@@@@@@@@@@ABCDEFGHIJKLMNOPQRSTUVWXYZabcdefghijklmnopqrstuvwxyz0123456789+/',\n",
       " b'fprintf',\n",
       " b'strchr',\n",
       " b'_pctype',\n",
       " b'__mb_cur_max',\n",
       " b'_isctype',\n",
       " b'printf',\n",
       " b'signal',\n",
       " b'malloc',\n",
       " b'calloc',\n",
       " b'fflush',\n",
       " b'fclose',\n",
       " b'perror',\n",
       " b'fopen',\n",
       " b'qsort',\n",
       " b'_ftol',\n",
       " b'strncpy',\n",
       " b'strstr',\n",
       " b'strncmp',\n",
       " b'_errno',\n",
       " b'__p__wenviron',\n",
       " b'__p__environ',\n",
       " b'realloc',\n",
       " b'strspn',\n",
       " b'strerror',\n",
       " b'wcscpy',\n",
       " b'wcslen',\n",
       " b'_close',\n",
       " b'wcsncmp',\n",
       " b'strrchr',\n",
       " b'MSVCRT.dll',\n",
       " b'__dllonexit',\n",
       " b'_onexit',\n",
       " b'_exit',\n",
       " b'_XcptFilter',\n",
       " b'__p___initenv',\n",
       " b'__getmainargs',\n",
       " b'_initterm',\n",
       " b'__setusermatherr',\n",
       " b'_adjust_fdiv',\n",
       " b'__p__commode',\n",
       " b'__p__fmode',\n",
       " b'__set_app_type',\n",
       " b'_except_handler3',\n",
       " b'_controlfp',\n",
       " b'SetLastError',\n",
       " b'FreeEnvironmentStringsW',\n",
       " b'GetEnvironmentStringsW',\n",
       " b'GlobalFree',\n",
       " b'GetCommandLineW',\n",
       " b'TlsAlloc',\n",
       " b'TlsFree',\n",
       " b'DuplicateHandle',\n",
       " b'GetCurrentProcess',\n",
       " b'SetHandleInformation',\n",
       " b'CloseHandle',\n",
       " b'GetSystemTimeAsFileTime',\n",
       " b'FileTimeToSystemTime',\n",
       " b'GetTimeZoneInformation',\n",
       " b'FileTimeToLocalFileTime',\n",
       " b'SystemTimeToFileTime',\n",
       " b'SystemTimeToTzSpecificLocalTime',\n",
       " b'Sleep',\n",
       " b'FormatMessageA',\n",
       " b'GetLastError',\n",
       " b'WaitForSingleObject',\n",
       " b'CreateEventA',\n",
       " b'SetStdHandle',\n",
       " b'SetFilePointer',\n",
       " b'CreateFileA',\n",
       " b'CreateFileW',\n",
       " b'GetOverlappedResult',\n",
       " b'DeviceIoControl',\n",
       " b'GetFileInformationByHandle',\n",
       " b'LocalFree',\n",
       " b'GetFileType',\n",
       " b'CreateMutexA',\n",
       " b'InitializeCriticalSection',\n",
       " b'DeleteCriticalSection',\n",
       " b'EnterCriticalSection',\n",
       " b'ReleaseMutex',\n",
       " b'SetEvent',\n",
       " b'LeaveCriticalSection',\n",
       " b'TerminateProcess',\n",
       " b'GetExitCodeProcess',\n",
       " b'GetVersionExA',\n",
       " b'GetProcAddress',\n",
       " b'LoadLibraryA',\n",
       " b'WriteFile',\n",
       " b'ReadFile',\n",
       " b'PeekNamedPipe',\n",
       " b'KERNEL32.dll',\n",
       " b'AllocateAndInitializeSid',\n",
       " b'FreeSid',\n",
       " b'ADVAPI32.dll',\n",
       " b'WSOCK32.dll',\n",
       " b'WSASend',\n",
       " b'WSARecv',\n",
       " b'WS2_32.dll',\n",
       " b'_strnicmp',\n",
       " b'_strdup',\n",
       " b'%s: Cannot use concurrency level greater than total number of requests',\n",
       " b'%s: Invalid Concurrency [Range 0..%d]',\n",
       " b'%s: invalid URL',\n",
       " b'%s: wrong number of arguments',\n",
       " b'User-Agent:',\n",
       " b'Accept:',\n",
       " b'Host:',\n",
       " b'Proxy-Authorization: Basic ',\n",
       " b'Proxy credentials too long',\n",
       " b'Authorization: Basic ',\n",
       " b'Authentication credentials too long',\n",
       " b'Cookie: ',\n",
       " b'Cannot mix PUT and HEAD',\n",
       " b'Cannot mix POST and HEAD',\n",
       " b'Cannot mix POST/PUT and HEAD',\n",
       " b'Invalid number of requests',\n",
       " b'n:c:t:b:T:p:u:v:rkVhwix:y:z:C:H:P:A:g:X:de:Sq',\n",
       " b'bgcolor=white',\n",
       " b'Total of %d requests completed',\n",
       " b'..done',\n",
       " b'Finished %d requests',\n",
       " b'apr_socket_connect()',\n",
       " b'Test aborted after 10 failures',\n",
       " b'Server timed out',\n",
       " b'apr_poll',\n",
       " b'apr_sockaddr_info_get() for %s',\n",
       " b'error creating request buffer: out of memory',\n",
       " b'INFO: %s header == ',\n",
       " b'Request too long',\n",
       " b'%s %s HTTP/1.0',\n",
       " b'%s%s%sContent-length: %u',\n",
       " b'Content-type: %s',\n",
       " b'text/plain',\n",
       " b'%s %s HTTP/1.0',\n",
       " b'%s%s%s%s',\n",
       " b'Connection: Keep-Alive',\n",
       " b'Accept: */*',\n",
       " b'User-Agent: ApacheBench/',\n",
       " b'Host: ',\n",
       " b'apr_pollset_create failed',\n",
       " b'(be patient)%s',\n",
       " b'[through %s:%d] ',\n",
       " b'Benchmarking %s ',\n",
       " b'%s: %s (%d)',\n",
       " b'Send request failed!',\n",
       " b'Send request timed out!',\n",
       " b'%I64d',\n",
       " b'%I64d',\n",
       " b'%I64d',\n",
       " b'%I64d',\n",
       " b'%I64d',\n",
       " b'starttime',\n",
       " b'seconds',\n",
       " b'ctime',\n",
       " b'dtime',\n",
       " b'ttime',\n",
       " b'Cannot open gnuplot output file',\n",
       " b'%d,%.3f',\n",
       " b'Percentage served,Time in ms',\n",
       " b'Cannot open CSV output file',\n",
       " b'  %d%%  %5I64d',\n",
       " b' 100%%  %5I64d (longest request)',\n",
       " b' 0%%  <0> (never)',\n",
       " b'Percentage of the requests served within a certain time (ms)',\n",
       " b'Total:      %5I64d %5I64d%5I64d',\n",
       " b'Processing: %5I64d %5I64d%5I64d',\n",
       " b'Connect:    %5I64d %5I64d%5I64d',\n",
       " b'              min   avg   max',\n",
       " b'WARNING: The median and mean for the total time are not within a normal deviation',\n",
       " b'        These results are probably not that reliable.',\n",
       " b'ERROR: The median and mean for the total time are more than twice the standard',\n",
       " b'       deviation apart. These results are NOT reliable.',\n",
       " b'WARNING: The median and mean for the waiting time are not within a normal deviation',\n",
       " b'        These results are probably not that reliable.',\n",
       " b'ERROR: The median and mean for the waiting time are more than twice the standard',\n",
       " b'       deviation apart. These results are NOT reliable.',\n",
       " b'WARNING: The median and mean for the processing time are not within a normal deviation',\n",
       " b'        These results are probably not that reliable.',\n",
       " b'ERROR: The median and mean for the processing time are more than twice the standard',\n",
       " b'       deviation apart. These results are NOT reliable.',\n",
       " b'WARNING: The median and mean for the initial connection time are not within a normal deviation',\n",
       " b'        These results are probably not that reliable.',\n",
       " b'ERROR: The median and mean for the initial connection time are more than twice the standard',\n",
       " b'       deviation apart. These results are NOT reliable.',\n",
       " b'Total:      %5I64d %4I64d %5.1f %6I64d %7I64d',\n",
       " b'Waiting:    %5I64d %4I64d %5.1f %6I64d %7I64d',\n",
       " b'Processing: %5I64d %4I64d %5.1f %6I64d %7I64d',\n",
       " b'Connect:    %5I64d %4I64d %5.1f %6I64d %7I64d',\n",
       " b'              min  mean[+/-sd] median   max',\n",
       " b'Connection Times (ms)',\n",
       " b'                        %.2f kb/s total',\n",
       " b'                        %.2f kb/s sent',\n",
       " b'Transfer rate:          %.2f [Kbytes/sec] received',\n",
       " b'Time per request:       %.3f [ms] (mean, across all concurrent requests)',\n",
       " b'Time per request:       %.3f [ms] (mean)',\n",
       " b'Requests per second:    %.2f [#/sec] (mean)',\n",
       " b'HTML transferred:       %I64d bytes',\n",
       " b'Total PUT:              %I64d',\n",
       " b'Total POSTed:           %I64d',\n",
       " b'Total transferred:      %I64d bytes',\n",
       " b'Keep-Alive requests:    %d',\n",
       " b'Non-2xx responses:      %d',\n",
       " b'Write errors:           %d',\n",
       " b'   (Connect: %d, Receive: %d, Length: %d, Exceptions: %d)',\n",
       " b'Failed requests:        %d',\n",
       " b'Complete requests:      %d',\n",
       " b'Time taken for tests:   %.3f seconds',\n",
       " b'Concurrency Level:      %d',\n",
       " b'Document Length:        %u bytes',\n",
       " b'Document Path:          %s',\n",
       " b'Server Port:            %hu',\n",
       " b'Server Hostname:        %s',\n",
       " b'Server Software:        %s',\n",
       " b'</table>',\n",
       " b'<tr %s><th %s>Total:</th><td %s>%5I64d</td><td %s>%5I64d</td><td %s>%5I64d</td></tr>',\n",
       " b'<tr %s><th %s>Processing:</th><td %s>%5I64d</td><td %s>%5I64d</td><td %s>%5I64d</td></tr>',\n",
       " b'<tr %s><th %s>Connect:</th><td %s>%5I64d</td><td %s>%5I64d</td><td %s>%5I64d</td></tr>',\n",
       " b'<tr %s><th %s>&nbsp;</th> <th %s>min</th>   <th %s>avg</th>   <th %s>max</th></tr>',\n",
       " b'<tr %s><th %s colspan=4>Connnection Times (ms)</th></tr>',\n",
       " b'<tr %s><td colspan=2 %s>&nbsp;</td><td colspan=2 %s>%.2f kb/s total</td></tr>',\n",
       " b'<tr %s><td colspan=2 %s>&nbsp;</td><td colspan=2 %s>%.2f kb/s sent</td></tr>',\n",
       " b'<tr %s><th colspan=2 %s>Transfer rate:</th><td colspan=2 %s>%.2f kb/s received</td></tr>',\n",
       " b'<tr %s><th colspan=2 %s>Requests per second:</th><td colspan=2 %s>%.2f</td></tr>',\n",
       " b'<tr %s><th colspan=2 %s>HTML transferred:</th><td colspan=2 %s>%I64d bytes</td></tr>',\n",
       " b'<tr %s><th colspan=2 %s>Total PUT:</th><td colspan=2 %s>%I64d</td></tr>',\n",
       " b'<tr %s><th colspan=2 %s>Total POSTed:</th><td colspan=2 %s>%I64d</td></tr>',\n",
       " b'<tr %s><th colspan=2 %s>Total transferred:</th><td colspan=2 %s>%I64d bytes</td></tr>',\n",
       " b'<tr %s><th colspan=2 %s>Keep-Alive requests:</th><td colspan=2 %s>%d</td></tr>',\n",
       " b'<tr %s><th colspan=2 %s>Non-2xx responses:</th><td colspan=2 %s>%d</td></tr>',\n",
       " b'<tr %s><td colspan=4 %s >   (Connect: %d, Length: %d, Exceptions: %d)</td></tr>',\n",
       " b'<tr %s><th colspan=2 %s>Failed requests:</th><td colspan=2 %s>%d</td></tr>',\n",
       " b'<tr %s><th colspan=2 %s>Complete requests:</th><td colspan=2 %s>%d</td></tr>',\n",
       " b'<tr %s><th colspan=2 %s>Time taken for tests:</th><td colspan=2 %s>%.3f seconds</td></tr>',\n",
       " b'<tr %s><th colspan=2 %s>Concurrency Level:</th><td colspan=2 %s>%d</td></tr>',\n",
       " b'<tr %s><th colspan=2 %s>Document Length:</th><td colspan=2 %s>%u bytes</td></tr>',\n",
       " b'<tr %s><th colspan=2 %s>Document Path:</th><td colspan=2 %s>%s</td></tr>',\n",
       " b'<tr %s><th colspan=2 %s>Server Port:</th><td colspan=2 %s>%hu</td></tr>',\n",
       " b'<tr %s><th colspan=2 %s>Server Hostname:</th><td colspan=2 %s>%s</td></tr>',\n",
       " b'<tr %s><th colspan=2 %s>Server Software:</th><td colspan=2 %s>%s</td></tr>',\n",
       " b'<table %s>',\n",
       " b'socket receive buffer',\n",
       " b'socket send buffer',\n",
       " b'socket nonblock',\n",
       " b'socket',\n",
       " b'Completed %d requests',\n",
       " b'Content-length:',\n",
       " b'Content-Length:',\n",
       " b'keep-alive',\n",
       " b'Keep-Alive',\n",
       " b'LOG: Response code = %s',\n",
       " b'WARNING: Response code not 2xx (%s)',\n",
       " b'Server:',\n",
       " b'LOG: header received:',\n",
       " b'apr_socket_recv',\n",
       " b' Licensed to The Apache Software Foundation, http://www.apache.org/<br>',\n",
       " b' Copyright 1996 Adam Twiss, Zeus Technology Ltd, http://www.zeustech.net/<br>',\n",
       " b' This is ApacheBench, Version %s <i>&lt;%s&gt;</i><br>',\n",
       " b'$Revision: 655654 $',\n",
       " b'Licensed to The Apache Software Foundation, http://www.apache.org/',\n",
       " b'Copyright 1996 Adam Twiss, Zeus Technology Ltd, http://www.zeustech.net/',\n",
       " b'This is ApacheBench, Version %s',\n",
       " b'2.3 <$Revision: 655654 $>',\n",
       " b'    -h              Display usage information (this message)',\n",
       " b\"    -r              Don't exit on socket receive errors.\",\n",
       " b'    -e filename     Output CSV file with percentages served',\n",
       " b'    -g filename     Output collected data to gnuplot format file.',\n",
       " b'    -S              Do not show confidence estimators and warnings.',\n",
       " b'    -d              Do not show percentiles served table.',\n",
       " b'    -k              Use HTTP KeepAlive feature',\n",
       " b'    -V              Print version number and exit',\n",
       " b'    -X proxy:port   Proxyserver and port number to use',\n",
       " b'    -P attribute    Add Basic Proxy Authentication, the attributes',\n",
       " b'                    are a colon separated username and password.',\n",
       " b'    -A attribute    Add Basic WWW Authentication, the attributes',\n",
       " b'                    Inserted after all normal header lines. (repeatable)',\n",
       " b\"    -H attribute    Add Arbitrary header line, eg. 'Accept-Encoding: gzip'\",\n",
       " b\"    -C attribute    Add cookie, eg. 'Apache=1234. (repeatable)\",\n",
       " b'    -z attributes   String to insert as td or th attributes',\n",
       " b'    -y attributes   String to insert as tr attributes',\n",
       " b'    -x attributes   String to insert as table attributes',\n",
       " b'    -i              Use HEAD instead of GET',\n",
       " b'    -w              Print out results in HTML tables',\n",
       " b'    -v verbosity    How much troubleshooting info to print',\n",
       " b\"                    Default is 'text/plain'\",\n",
       " b\"                    'application/x-www-form-urlencoded'\",\n",
       " b'    -T content-type Content-type header for POSTing, eg.',\n",
       " b'    -u putfile      File containing data to PUT. Remember also to set -T',\n",
       " b'    -p postfile     File containing data to POST. Remember also to set -T',\n",
       " b'    -b windowsize   Size of TCP send/receive buffer, in bytes',\n",
       " b'    -t timelimit    Seconds to max. wait for responses',\n",
       " b'    -c concurrency  Number of multiple requests to make',\n",
       " b'    -n requests     Number of requests to perform',\n",
       " b'Options are:',\n",
       " b'Usage: %s [options] [http://]hostname[:port]/path',\n",
       " b'SSL not compiled in; no https support',\n",
       " b'https://',\n",
       " b'http://',\n",
       " b'ab: Could not read POST data file: %s',\n",
       " b'ab: Could not allocate POST data buffer',\n",
       " b'ab: Could not stat POST data file (%s): %s',\n",
       " b'ab: Could not open POST data file (%s): %s',\n",
       " b'apr_global_pool',\n",
       " b'%d.%d%c',\n",
       " b'%3d%c',\n",
       " b'KMGTPE',\n",
       " b'%s: illegal option -- %c',\n",
       " b'%s: option requires an argument -- %c',\n",
       " b'CommandLineToArgvW',\n",
       " b'apr_initialize',\n",
       " b'0123456789.',\n",
       " b'0.0.0.0',\n",
       " b'bogus %p',\n",
       " b'No host data of that type was found',\n",
       " b'Host not found',\n",
       " b'Graceful shutdown in progress',\n",
       " b'WSAStartup not yet called',\n",
       " b'Winsock version out of range',\n",
       " b'Network system is unavailable',\n",
       " b'Too many levels of remote in path',\n",
       " b'Stale NFS file handle',\n",
       " b'Disc quota exceeded',\n",
       " b'Too many users',\n",
       " b'Too many processes',\n",
       " b'Directory not empty',\n",
       " b'No route to host',\n",
       " b'Host is down',\n",
       " b'File name too long',\n",
       " b'Too many levels of symbolic links',\n",
       " b'Connection refused',\n",
       " b'Connection timed out',\n",
       " b\"Too many references, can't splice\",\n",
       " b\"Can't send after socket shutdown\",\n",
       " b'Socket is not connected',\n",
       " b'Socket is already connected',\n",
       " b'No buffer space available',\n",
       " b'Connection reset by peer',\n",
       " b'Software caused connection abort',\n",
       " b'Net connection reset',\n",
       " b'Network is unreachable',\n",
       " b'Network is down',\n",
       " b\"Can't assign requested address\",\n",
       " b'Address already in use',\n",
       " b'Address family not supported',\n",
       " b'Protocol family not supported',\n",
       " b'Operation not supported on socket',\n",
       " b'Socket type not supported',\n",
       " b'Protocol not supported',\n",
       " b'Bad protocol option',\n",
       " b'Protocol wrong type for socket',\n",
       " b'Message too long',\n",
       " b'Destination address required',\n",
       " b'Socket operation on non-socket',\n",
       " b'Operation already in progress',\n",
       " b'Operation now in progress',\n",
       " b'Operation would block',\n",
       " b'Too many open sockets',\n",
       " b'Invalid argument',\n",
       " b'Bad address',\n",
       " b'Permission denied',\n",
       " b'Bad file number',\n",
       " b'Interrupted system call',\n",
       " b'APR does not understand this error code',\n",
       " b'Error string not specified yet',\n",
       " b'passwords do not match',\n",
       " b'This function has not been implemented on this platform',\n",
       " b'There is no error, this value signifies an initialized error code',\n",
       " b'Shared memory is implemented using a key system',\n",
       " b'Shared memory is implemented using files',\n",
       " b'Shared memory is implemented anonymously',\n",
       " b'Could not find specified socket in poll list.',\n",
       " b'End of file found',\n",
       " b'Missing parameter for the specified command line option',\n",
       " b'Bad character specified on command line',\n",
       " b'Partial results are valid but processing is incomplete',\n",
       " b'The timeout specified has expired',\n",
       " b'The specified child process is not done executing',\n",
       " b'The specified child process is done executing',\n",
       " b'The specified thread is not detached',\n",
       " b'The specified thread is detached',\n",
       " b'Your code just forked, and you are currently executing in the parent process',\n",
       " b'Your code just forked, and you are currently executing in the child process',\n",
       " b'Internal error',\n",
       " b'The process is not recognized.',\n",
       " b'The given path contained wildcard characters',\n",
       " b'The given path is misformatted or contained invalid characters',\n",
       " b'The given path was above the root path',\n",
       " b'The given path is incomplete',\n",
       " b'The given path is relative',\n",
       " b'The given path is absolute',\n",
       " b'The specified network mask is invalid.',\n",
       " b'The specified IP address is invalid.',\n",
       " b'DSO load failed',\n",
       " b'No shared memory is currently available',\n",
       " b'No thread key structure was provided and one was required.',\n",
       " b'No thread was provided and one was required.',\n",
       " b'No socket was provided and one was required.',\n",
       " b'No poll structure was provided and one was required.',\n",
       " b'No lock was provided and one was required.',\n",
       " b'No directory was provided and one was required.',\n",
       " b'No time was provided and one was required.',\n",
       " b'No process was provided and one was required.',\n",
       " b'An invalid socket was returned',\n",
       " b'An invalid date has been provided',\n",
       " b'A new pool could not be created.',\n",
       " b'Unrecognized Win32 error code %d',\n",
       " b'CancelIo',\n",
       " b'GetCompressedFileSizeA',\n",
       " b'GetCompressedFileSizeW',\n",
       " b'ZwQueryInformationFile',\n",
       " b'GetSecurityInfo',\n",
       " b'GetNamedSecurityInfoA',\n",
       " b'GetNamedSecurityInfoW',\n",
       " b'GetEffectiveRightsFromAclW',\n",
       " b'ntdll.dll',\n",
       " b'shell32',\n",
       " b'ws2_32',\n",
       " b'mswsock',\n",
       " b'advapi32',\n",
       " b'kernel32',\n",
       " b'C:\\\\local0\\\\asf\\\\release\\\\build-2.2.14\\\\support\\\\Release\\\\ab.pdb']"
      ]
     },
     "execution_count": 69,
     "metadata": {},
     "output_type": "execute_result"
    }
   ],
   "source": [
    "allstrings"
   ]
  },
  {
   "cell_type": "code",
   "execution_count": 64,
   "metadata": {},
   "outputs": [
    {
     "name": "stdout",
     "output_type": "stream",
     "text": [
      "[40, 5, 7, 6, 5, 7, 6, 5, 7, 5, 5, 8, 7, 5, 5, 7, 6, 5, 9, 5, 6, 6, 7, 7, 5, 5, 6, 6, 5, 5, 5, 5, 5, 5, 5, 5, 6, 5, 6, 5, 5, 5, 5, 5, 5, 7, 5, 6, 5, 5, 5, 5, 5, 5, 5, 7, 5, 5, 5, 5, 5, 5, 6, 5, 6, 5, 5, 5, 5, 5, 5, 9, 5, 5, 5, 5, 5, 6, 7, 5, 5, 6, 16, 16, 16, 16, 10, 65, 6, 217, 7, 6, 7, 12, 8, 6, 6, 6, 6, 6, 6, 6, 5, 5, 5, 7, 6, 7, 6, 13, 12, 7, 6, 8, 6, 6, 6, 7, 7, 10, 11, 7, 5, 11, 13, 13, 9, 16, 12, 12, 10, 14, 16, 10, 12, 23, 22, 10, 15, 8, 7, 15, 17, 20, 11, 23, 20, 22, 23, 20, 31, 5, 14, 12, 19, 12, 12, 14, 11, 11, 19, 15, 26, 9, 11, 12, 25, 21, 20, 12, 8, 20, 16, 18, 13, 14, 12, 9, 8, 13, 12, 24, 7, 12, 11, 7, 7, 10, 9, 7, 70, 37, 15, 29, 11, 7, 5, 27, 26, 21, 35, 8, 23, 24, 28, 26, 45, 13, 30, 6, 20, 20, 30, 16, 8, 30, 44, 19, 16, 14, 24, 16, 10, 14, 8, 22, 11, 24, 6, 25, 14, 16, 16, 11, 20, 23, 5, 5, 5, 5, 5, 9, 7, 5, 5, 5, 31, 7, 28, 27, 14, 32, 17, 60, 31, 31, 31, 29, 81, 53, 78, 55, 83, 53, 80, 55, 86, 53, 83, 55, 94, 53, 91, 55, 45, 45, 45, 45, 43, 21, 39, 38, 50, 72, 40, 43, 35, 29, 29, 35, 26, 26, 26, 57, 26, 26, 36, 26, 32, 26, 27, 26, 26, 8, 84, 89, 86, 82, 56, 77, 76, 88, 80, 84, 71, 74, 85, 78, 76, 79, 74, 76, 89, 76, 80, 72, 71, 74, 74, 10, 21, 18, 15, 6, 21, 15, 15, 10, 10, 23, 35, 7, 21, 15, 71, 77, 54, 19, 66, 72, 31, 25, 60, 56, 59, 65, 67, 57, 46, 49, 54, 66, 64, 64, 72, 74, 62, 59, 53, 56, 43, 52, 58, 43, 55, 56, 72, 73, 61, 54, 55, 49, 12, 49, 37, 8, 7, 37, 39, 42, 42, 15, 7, 5, 6, 24, 37, 18, 14, 11, 7, 8, 35, 14, 29, 25, 28, 29, 33, 21, 19, 14, 18, 19, 16, 12, 18, 33, 18, 20, 33, 32, 23, 27, 25, 24, 32, 20, 22, 15, 30, 22, 28, 29, 33, 25, 22, 19, 30, 16, 28, 30, 29, 25, 21, 21, 16, 11, 17, 15, 23, 39, 30, 22, 55, 65, 47, 40, 40, 45, 17, 55, 39, 54, 33, 49, 45, 36, 32, 76, 75, 14, 30, 44, 62, 38, 28, 26, 26, 38, 36, 15, 39, 58, 44, 44, 52, 42, 47, 42, 45, 30, 33, 32, 32, 8, 22, 22, 22, 15, 21, 21, 26, 9, 7, 6, 7, 8, 8, 57]\n"
     ]
    },
    {
     "data": {
      "text/plain": [
       "26.533333333333335"
      ]
     },
     "execution_count": 64,
     "metadata": {},
     "output_type": "execute_result"
    }
   ],
   "source": [
    "# 平均可读字符串长度\n",
    "string_lengths = [len(s) for s in allstrings]\n",
    "print(string_lengths)\n",
    "avlength = sum(string_lengths) / len(string_lengths)\n",
    "avlength"
   ]
  },
  {
   "cell_type": "code",
   "execution_count": 65,
   "metadata": {},
   "outputs": [
    {
     "data": {
      "text/plain": [
       "array([1.4173810e-01, 3.6949452e-04, 2.2169673e-04, 2.2169673e-04,\n",
       "       6.6509016e-04, 1.7661838e-02, 5.1729236e-04, 9.6068578e-04,\n",
       "       1.9213716e-03, 1.6257759e-03, 3.6949452e-04, 8.8678690e-04,\n",
       "       2.2169673e-03, 4.1383388e-03, 6.7986995e-03, 9.2373630e-03,\n",
       "       1.6257759e-03, 1.6257759e-03, 5.3207213e-03, 2.2169673e-03,\n",
       "       5.2468223e-03, 3.3254507e-03, 5.2468223e-03, 1.1084836e-03,\n",
       "       7.3898904e-04, 1.2562814e-03, 9.9763526e-03, 1.1823825e-03,\n",
       "       1.2932309e-02, 3.5471476e-03, 1.2932309e-02, 1.4779781e-04,\n",
       "       1.5223174e-02, 5.4685189e-03, 1.5518770e-03, 5.0990246e-03,\n",
       "       2.2908661e-03, 2.8081585e-03, 2.8820573e-03, 2.2908661e-03,\n",
       "       1.9952704e-03, 5.5424180e-03, 2.2169673e-04, 8.8678690e-04,\n",
       "       2.3647649e-03, 1.3301803e-03, 3.2515519e-03, 2.5125628e-03,\n",
       "       6.7248004e-03, 1.6257759e-03, 3.8427431e-03, 7.0942952e-03,\n",
       "       9.3112625e-03, 1.2562814e-03, 1.8474726e-03, 2.8081585e-03,\n",
       "       3.6949452e-04, 2.9559562e-04, 3.6949452e-04, 1.2562814e-03,\n",
       "       5.1729236e-04, 1.1084836e-03, 6.6509016e-04, 5.6163170e-03,\n",
       "       3.6949452e-04, 4.2565770e-02, 8.4983744e-03, 2.4830032e-02,\n",
       "       3.5175879e-02, 8.2766779e-02, 1.1602128e-02, 7.9810815e-03,\n",
       "       1.8326929e-02, 3.9388116e-02, 1.1084836e-03, 3.9905407e-03,\n",
       "       2.6677506e-02, 1.5740467e-02, 4.6186816e-02, 4.7664795e-02,\n",
       "       2.0174401e-02, 3.1037540e-03, 4.6260715e-02, 4.9438369e-02,\n",
       "       6.7248002e-02, 1.6183861e-02, 7.2420929e-03, 6.5770028e-03,\n",
       "       3.3254507e-03, 6.6509014e-03, 1.4779781e-03, 1.4779781e-04,\n",
       "       1.4779781e-04, 3.6949452e-04, 2.9559562e-04, 7.3898904e-05],\n",
       "      dtype=float32)"
      ]
     },
     "execution_count": 65,
     "metadata": {},
     "output_type": "execute_result"
    }
   ],
   "source": [
    "# 可读字符直方图\n",
    "as_shifted_string = [b - ord(b'\\x20') for b in b''.join(allstrings)]\n",
    "c = np.bincount(as_shifted_string, minlength=96) # 定义一个长度为96的向量统计其直方图\n",
    "p = c.astype(np.float32) / c.sum() # 计算直方图概率\n",
    "p"
   ]
  },
  {
   "cell_type": "code",
   "execution_count": 66,
   "metadata": {},
   "outputs": [
    {
     "data": {
      "text/plain": [
       "array([ 0,  1,  2,  3,  4,  5,  6,  7,  8,  9, 10, 11, 12, 13, 14, 15, 16,\n",
       "       17, 18, 19, 20, 21, 22, 23, 24, 25, 26, 27, 28, 29, 30, 31, 32, 33,\n",
       "       34, 35, 36, 37, 38, 39, 40, 41, 42, 43, 44, 45, 46, 47, 48, 49, 50,\n",
       "       51, 52, 53, 54, 55, 56, 57, 58, 59, 60, 61, 62, 63, 64, 65, 66, 67,\n",
       "       68, 69, 70, 71, 72, 73, 74, 75, 76, 77, 78, 79, 80, 81, 82, 83, 84,\n",
       "       85, 86, 87, 88, 89, 90, 91, 92, 93, 94, 95], dtype=int64)"
      ]
     },
     "execution_count": 66,
     "metadata": {},
     "output_type": "execute_result"
    }
   ],
   "source": [
    "# 可读字符信息熵\n",
    "wh = np.where(c)[0] \n",
    "wh"
   ]
  },
  {
   "cell_type": "code",
   "execution_count": 67,
   "metadata": {},
   "outputs": [
    {
     "data": {
      "text/plain": [
       "5.104449"
      ]
     },
     "execution_count": 67,
     "metadata": {},
     "output_type": "execute_result"
    }
   ],
   "source": [
    "H = np.sum(-p[wh] * np.log2(p[wh])) # 计算信息熵\n",
    "H"
   ]
  },
  {
   "cell_type": "code",
   "execution_count": 71,
   "metadata": {},
   "outputs": [
    {
     "data": {
      "text/plain": [
       "[b'C:\\\\local0\\\\asf\\\\release\\\\build-2.2.14\\\\support\\\\Release\\\\ab.pdb']"
      ]
     },
     "execution_count": 71,
     "metadata": {},
     "output_type": "execute_result"
    }
   ],
   "source": []
  },
  {
   "cell_type": "code",
   "execution_count": 79,
   "metadata": {},
   "outputs": [
    {
     "data": {
      "text/plain": [
       "([1], re.compile(rb'c:\\\\', re.IGNORECASE))"
      ]
     },
     "execution_count": 79,
     "metadata": {},
     "output_type": "execute_result"
    }
   ],
   "source": [
    "# C盘路径字符串个数 _paths 表示可读字符串\n",
    "_paths = re.compile(b'c:\\\\\\\\', re.IGNORECASE)\n",
    "[len(_paths.findall(bytez))],_paths"
   ]
  },
  {
   "cell_type": "code",
   "execution_count": 78,
   "metadata": {},
   "outputs": [
    {
     "data": {
      "text/plain": [
       "[0]"
      ]
     },
     "execution_count": 78,
     "metadata": {},
     "output_type": "execute_result"
    }
   ],
   "source": [
    "# 注册表字符串个数\n",
    "_registry = re.compile(b'HKEY_')\n",
    "[len(_registry.findall(bytez))]"
   ]
  },
  {
   "cell_type": "code",
   "execution_count": 82,
   "metadata": {},
   "outputs": [
    {
     "data": {
      "text/plain": [
       "[7]"
      ]
     },
     "execution_count": 82,
     "metadata": {},
     "output_type": "execute_result"
    }
   ],
   "source": [
    "# URL字符串个数\n",
    "\n",
    "_urls = re.compile(b'https?://', re.IGNORECASE)\n",
    "[len(_urls.findall(bytez))]"
   ]
  },
  {
   "cell_type": "code",
   "execution_count": 83,
   "metadata": {},
   "outputs": [
    {
     "data": {
      "text/plain": [
       "[1]"
      ]
     },
     "execution_count": 83,
     "metadata": {},
     "output_type": "execute_result"
    }
   ],
   "source": [
    "# MZ头的个数\n",
    "_mz = re.compile(b'MZ')\n",
    "[len(_mz.findall(bytez))]"
   ]
  },
  {
   "cell_type": "code",
   "execution_count": 89,
   "metadata": {},
   "outputs": [
    {
     "data": {
      "text/html": [
       "<div>\n",
       "<style scoped>\n",
       "    .dataframe tbody tr th:only-of-type {\n",
       "        vertical-align: middle;\n",
       "    }\n",
       "\n",
       "    .dataframe tbody tr th {\n",
       "        vertical-align: top;\n",
       "    }\n",
       "\n",
       "    .dataframe thead th {\n",
       "        text-align: right;\n",
       "    }\n",
       "</style>\n",
       "<table border=\"1\" class=\"dataframe\">\n",
       "  <thead>\n",
       "    <tr style=\"text-align: right;\">\n",
       "      <th></th>\n",
       "      <th>0</th>\n",
       "    </tr>\n",
       "  </thead>\n",
       "  <tbody>\n",
       "    <tr>\n",
       "      <th>0</th>\n",
       "      <td>510.000000</td>\n",
       "    </tr>\n",
       "    <tr>\n",
       "      <th>1</th>\n",
       "      <td>26.533333</td>\n",
       "    </tr>\n",
       "    <tr>\n",
       "      <th>2</th>\n",
       "      <td>0.141738</td>\n",
       "    </tr>\n",
       "    <tr>\n",
       "      <th>3</th>\n",
       "      <td>0.000369</td>\n",
       "    </tr>\n",
       "    <tr>\n",
       "      <th>4</th>\n",
       "      <td>0.000222</td>\n",
       "    </tr>\n",
       "    <tr>\n",
       "      <th>...</th>\n",
       "      <td>...</td>\n",
       "    </tr>\n",
       "    <tr>\n",
       "      <th>98</th>\n",
       "      <td>5.104449</td>\n",
       "    </tr>\n",
       "    <tr>\n",
       "      <th>99</th>\n",
       "      <td>1.000000</td>\n",
       "    </tr>\n",
       "    <tr>\n",
       "      <th>100</th>\n",
       "      <td>7.000000</td>\n",
       "    </tr>\n",
       "    <tr>\n",
       "      <th>101</th>\n",
       "      <td>0.000000</td>\n",
       "    </tr>\n",
       "    <tr>\n",
       "      <th>102</th>\n",
       "      <td>1.000000</td>\n",
       "    </tr>\n",
       "  </tbody>\n",
       "</table>\n",
       "<p>103 rows × 1 columns</p>\n",
       "</div>"
      ],
      "text/plain": [
       "              0\n",
       "0    510.000000\n",
       "1     26.533333\n",
       "2      0.141738\n",
       "3      0.000369\n",
       "4      0.000222\n",
       "..          ...\n",
       "98     5.104449\n",
       "99     1.000000\n",
       "100    7.000000\n",
       "101    0.000000\n",
       "102    1.000000\n",
       "\n",
       "[103 rows x 1 columns]"
      ]
     },
     "execution_count": 89,
     "metadata": {},
     "output_type": "execute_result"
    }
   ],
   "source": [
    "fg = np.concatenate([\n",
    "    [[len(allstrings)]],\n",
    "    [[avlength]],\n",
    "    [p.tolist()],\n",
    "    [[H]],\n",
    "    [[len(_paths.findall(bytez))]],\n",
    "    [[len(_urls.findall(bytez))]],\n",
    "    [[len(_registry.findall(bytez))]],\n",
    "    [[len(_mz.findall(bytez))]]], axis=-1).flatten().astype(np.float32)\n",
    "\n",
    "pd.DataFrame(fg)"
   ]
  },
  {
   "cell_type": "markdown",
   "metadata": {},
   "source": [
    "## 4.文件信息\n",
    "\n",
    "https://bbs.kanxue.com/thread-246699.htm"
   ]
  },
  {
   "cell_type": "code",
   "execution_count": 105,
   "metadata": {},
   "outputs": [],
   "source": [
    "# 指定PE文件的路径\n",
    "# pe_file_path = r'adb.exe'\n",
    "pe_file_path = r'D:\\Documents\\天池竞赛\\WebSecMLLearnNote\\Code3\\第8章　恶意程序检测\\a1303f026b713fbe7fe165cc8609847f5ec46bb2dfdbe86cff4b12deae728ca3'\n",
    "\n",
    "# 以二进制模式打开文件并读取内容\n",
    "with open(pe_file_path, 'rb') as file:\n",
    "    bytez = file.read()"
   ]
  },
  {
   "cell_type": "code",
   "execution_count": 106,
   "metadata": {},
   "outputs": [
    {
     "data": {
      "text/plain": [
       "<lief.PE.Binary at 0x20a86cb0>"
      ]
     },
     "execution_count": 106,
     "metadata": {},
     "output_type": "execute_result"
    }
   ],
   "source": [
    "import lief\n",
    "binary = lief.parse(bytez)\n",
    "binary"
   ]
  },
  {
   "cell_type": "code",
   "execution_count": 110,
   "metadata": {},
   "outputs": [
    {
     "data": {
      "text/plain": [
       "array([9.0112e+04, 1.0000e+00, 0.0000e+00, 1.0000e+02, 0.0000e+00,\n",
       "       1.0000e+00, 0.0000e+00, 0.0000e+00], dtype=float32)"
      ]
     },
     "execution_count": 110,
     "metadata": {},
     "output_type": "execute_result"
    }
   ],
   "source": [
    "np.asarray([\n",
    "    binary.virtual_size,\n",
    "    binary.has_debug,\n",
    "    len(binary.exported_functions),\n",
    "    len(binary.imported_functions),\n",
    "    binary.has_relocations,\n",
    "    binary.has_resources,\n",
    "    # binary.has_signature,\n",
    "    # binary.authentihash().hex() if binary.authentihash() else None,\n",
    "    binary.has_tls,\n",
    "    len(binary.symbols),]).flatten().astype(np.float32)"
   ]
  },
  {
   "cell_type": "markdown",
   "metadata": {},
   "source": [
    "# 8.4　PE文件节的特征提取"
   ]
  }
 ],
 "metadata": {
  "kernelspec": {
   "display_name": "base",
   "language": "python",
   "name": "python3"
  },
  "language_info": {
   "codemirror_mode": {
    "name": "ipython",
    "version": 3
   },
   "file_extension": ".py",
   "mimetype": "text/x-python",
   "name": "python",
   "nbconvert_exporter": "python",
   "pygments_lexer": "ipython3",
   "version": "3.7.6"
  }
 },
 "nbformat": 4,
 "nbformat_minor": 2
}
